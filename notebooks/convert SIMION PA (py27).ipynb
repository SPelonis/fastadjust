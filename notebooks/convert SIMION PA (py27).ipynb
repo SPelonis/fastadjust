{
 "cells": [
  {
   "cell_type": "code",
   "execution_count": 1,
   "metadata": {
    "collapsed": true
   },
   "outputs": [],
   "source": [
    "import os\n",
    "from __future__ import print_function\n",
    "from fastadjust.simion import pa2fa\n",
    "from fastadjust.io import h5write"
   ]
  },
  {
   "cell_type": "code",
   "execution_count": 2,
   "metadata": {
    "collapsed": true
   },
   "outputs": [],
   "source": [
    "# fast-adjust PA files\n",
    "dire = \"C:\\Users\\Adam\\Documents\\Inventor\\hfs_guide\\SIMION v2\"\n",
    "fils = [os.path.join(dire, fil) for fil in ['electrode_.PA1', 'electrode_.PA2', 'electrode_.PA3', 'electrode_.PA4']]"
   ]
  },
  {
   "cell_type": "code",
   "execution_count": 3,
   "metadata": {},
   "outputs": [
    {
     "name": "stdout",
     "output_type": "stream",
     "text": [
      "PA shape: (156L, 81L, 208L)\n",
      "electrodes: 4\n"
     ]
    }
   ],
   "source": [
    "# 3D data\n",
    "fa = pa2fa(fils)\n",
    "# nx ny nz\n",
    "print(\"PA shape:\", fa.shape)\n",
    "# number of electrodes\n",
    "print(\"electrodes:\", fa.num_el)"
   ]
  },
  {
   "cell_type": "code",
   "execution_count": 5,
   "metadata": {
    "collapsed": true
   },
   "outputs": [],
   "source": [
    "outfil = os.path.join(\"../data\", \"quad.h5\")\n",
    "h5write(outfil, fa)"
   ]
  },
  {
   "cell_type": "code",
   "execution_count": null,
   "metadata": {
    "collapsed": true
   },
   "outputs": [],
   "source": []
  }
 ],
 "metadata": {
  "kernelspec": {
   "display_name": "Python 2.7",
   "language": "python",
   "name": "py27"
  },
  "language_info": {
   "codemirror_mode": {
    "name": "ipython",
    "version": 2
   },
   "file_extension": ".py",
   "mimetype": "text/x-python",
   "name": "python",
   "nbconvert_exporter": "python",
   "pygments_lexer": "ipython2",
   "version": "2.7.15"
  }
 },
 "nbformat": 4,
 "nbformat_minor": 2
}
