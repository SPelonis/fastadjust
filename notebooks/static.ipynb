{
 "cells": [
  {
   "cell_type": "code",
   "execution_count": null,
   "metadata": {},
   "outputs": [],
   "source": [
    "%matplotlib inline"
   ]
  },
  {
   "cell_type": "markdown",
   "metadata": {},
   "source": [
    "For applications with static fields it's considerably more efficient to interpolate cached field values than to calculate them from the potential arrays."
   ]
  },
  {
   "cell_type": "code",
   "execution_count": null,
   "metadata": {},
   "outputs": [],
   "source": [
    "import os\n",
    "import numpy as np\n",
    "import matplotlib.pyplot as plt\n",
    "from matplotlib import colors\n",
    "bool_cmap = colors.ListedColormap([(1, 1, 1, 0), 'black'])\n",
    "from scipy.constants import centi, milli\n",
    "from fastadjust.io import h5read"
   ]
  },
  {
   "cell_type": "code",
   "execution_count": null,
   "metadata": {},
   "outputs": [],
   "source": [
    "# SIMION array\n",
    "fil = os.path.join(r\"../data\", \"quad.h5\")\n",
    "fa = h5read(fil)\n",
    "# move xy origin to center of the grid\n",
    "fa.x0 = - (fa.nx - 1) * fa.dx / 2 \n",
    "fa.y0 = - (fa.ny - 1) * fa.dy / 2"
   ]
  },
  {
   "cell_type": "code",
   "execution_count": null,
   "metadata": {},
   "outputs": [],
   "source": [
    "voltages = np.array([2.5, 2.5, -2.5, -2.5], dtype='float64')\n",
    "xvals = np.arange(-10, 10, .1) * 1e-3"
   ]
  },
  {
   "cell_type": "code",
   "execution_count": null,
   "metadata": {},
   "outputs": [],
   "source": [
    "# field amplitude\n",
    "%timeit fa.amp_field_r((-0.00101, 0.00081, 0.075), voltages)\n",
    "f1 = np.array([fa.amp_field_r((x, 0, 0.075), voltages) * centi for x in xvals])"
   ]
  },
  {
   "cell_type": "code",
   "execution_count": null,
   "metadata": {},
   "outputs": [],
   "source": [
    "# calculate from cache\n",
    "famp = fa.amp_field(voltages)\n",
    "%timeit fa.interp_r(famp, (-0.00101, 0.00081, 0.075))\n",
    "f2 = np.array([fa.interp_r(famp, (x, 0, 0.075)) * centi for x in xvals])"
   ]
  },
  {
   "cell_type": "code",
   "execution_count": null,
   "metadata": {},
   "outputs": [],
   "source": [
    "fig, ax = plt.subplots(figsize=(8,4))\n",
    "ax.plot(xvals / milli, f1)\n",
    "ax.plot(xvals / milli, f2, ls='--')\n",
    "ax.set_ylabel('electric field (V / cm)')\n",
    "ax.set_xlabel('x (mm)')\n",
    "plt.show()"
   ]
  },
  {
   "cell_type": "code",
   "execution_count": null,
   "metadata": {},
   "outputs": [],
   "source": [
    "fig, ax = plt.subplots(figsize=(8,4))\n",
    "ax.plot(xvals / milli, f1 - f2)\n",
    "ax.set_ylabel('diff. (V / cm)')\n",
    "ax.set_xlabel('x (mm)')\n",
    "plt.show()"
   ]
  },
  {
   "cell_type": "code",
   "execution_count": null,
   "metadata": {},
   "outputs": [],
   "source": [
    "# gradient of the field\n",
    "%timeit fa.grad_field_r((-0.00101, 0, 0.075), voltages)"
   ]
  },
  {
   "cell_type": "code",
   "execution_count": null,
   "metadata": {},
   "outputs": [],
   "source": [
    "# calculate from cache\n",
    "%timeit fa.grad_r(famp, (-0.00101, 0, 0.075))"
   ]
  },
  {
   "cell_type": "code",
   "execution_count": null,
   "metadata": {},
   "outputs": [],
   "source": [
    "gx1, gy1, gz1 = np.array([np.array(fa.grad_field_r((x, 0, 0.075), voltages)) * centi**2.0 for x in xvals]).T\n",
    "gx2, gy2, gz2 = np.array([np.array(fa.grad_r(famp, (x, 0, 0.075))) * centi**2.0 for x in xvals]).T\n",
    "\n",
    "fig, ax = plt.subplots(figsize=(8,4))\n",
    "ax.plot(xvals / milli, gx1)\n",
    "ax.plot(xvals / milli, gy1)\n",
    "ax.plot(xvals / milli, gz1)\n",
    "ax.plot(xvals / milli, gx2, ls='--')\n",
    "ax.plot(xvals / milli, gy2, ls='--')\n",
    "ax.plot(xvals / milli, gz2, ls='--')\n",
    "ax.set_ylabel('grad |F| (V / cm^2)')\n",
    "ax.set_xlabel('x (mm)')\n",
    "plt.show()"
   ]
  },
  {
   "cell_type": "code",
   "execution_count": null,
   "metadata": {},
   "outputs": [],
   "source": [
    "fig, ax = plt.subplots(figsize=(8,4))\n",
    "ax.plot(xvals / milli, gx1 - gx2)\n",
    "ax.plot(xvals / milli, gy1 - gy2)\n",
    "ax.plot(xvals / milli, gz1 - gz2)\n",
    "ax.set_ylabel('diff (V / cm^2)')\n",
    "ax.set_xlabel('x (mm)')\n",
    "plt.show()"
   ]
  },
  {
   "cell_type": "code",
   "execution_count": null,
   "metadata": {},
   "outputs": [],
   "source": []
  }
 ],
 "metadata": {
  "kernelspec": {
   "display_name": "Python 3",
   "language": "python",
   "name": "python3"
  },
  "language_info": {
   "codemirror_mode": {
    "name": "ipython",
    "version": 3
   },
   "file_extension": ".py",
   "mimetype": "text/x-python",
   "name": "python",
   "nbconvert_exporter": "python",
   "pygments_lexer": "ipython3",
   "version": "3.6.5"
  }
 },
 "nbformat": 4,
 "nbformat_minor": 2
}
