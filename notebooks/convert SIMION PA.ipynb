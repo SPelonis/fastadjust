{
 "cells": [
  {
   "cell_type": "code",
   "execution_count": 31,
   "metadata": {},
   "outputs": [],
   "source": [
    "from __future__ import print_function\n",
    "%matplotlib inline"
   ]
  },
  {
   "cell_type": "code",
   "execution_count": 37,
   "metadata": {},
   "outputs": [
    {
     "ename": "ModuleNotFoundError",
     "evalue": "No module named 'fastadjust'",
     "output_type": "error",
     "traceback": [
      "\u001b[1;31m---------------------------------------------------------------------------\u001b[0m",
      "\u001b[1;31mModuleNotFoundError\u001b[0m                       Traceback (most recent call last)",
      "Cell \u001b[1;32mIn [37], line 9\u001b[0m\n\u001b[0;32m      6\u001b[0m \u001b[39mfrom\u001b[39;00m \u001b[39mmatplotlib\u001b[39;00m \u001b[39mimport\u001b[39;00m colors\n\u001b[0;32m      7\u001b[0m bool_cmap \u001b[39m=\u001b[39m colors\u001b[39m.\u001b[39mListedColormap([(\u001b[39m1\u001b[39m, \u001b[39m1\u001b[39m, \u001b[39m1\u001b[39m, \u001b[39m0\u001b[39m), \u001b[39m'\u001b[39m\u001b[39mblack\u001b[39m\u001b[39m'\u001b[39m])\n\u001b[1;32m----> 9\u001b[0m \u001b[39mfrom\u001b[39;00m \u001b[39mfastadjust\u001b[39;00m\u001b[39m.\u001b[39;00m\u001b[39msimion\u001b[39;00m \u001b[39mimport\u001b[39;00m pa2fa\n\u001b[0;32m     10\u001b[0m \u001b[39mfrom\u001b[39;00m \u001b[39mfastadjust\u001b[39;00m\u001b[39m.\u001b[39;00m\u001b[39mio\u001b[39;00m \u001b[39mimport\u001b[39;00m h5write\n",
      "\u001b[1;31mModuleNotFoundError\u001b[0m: No module named 'fastadjust'"
     ]
    }
   ],
   "source": [
    "#!python setup.py install\n",
    "\n",
    "import os\n",
    "import numpy as np\n",
    "import matplotlib.pyplot as plt\n",
    "from matplotlib import colors\n",
    "bool_cmap = colors.ListedColormap([(1, 1, 1, 0), 'black'])\n",
    "\n",
    "from fastadjust.simion import pa2fa\n",
    "from fastadjust.io import h5write"
   ]
  },
  {
   "cell_type": "code",
   "execution_count": 38,
   "metadata": {},
   "outputs": [],
   "source": [
    "# fast-adjust PA files\n",
    "dire = r\"C:\\Users\\Adam\\Documents\\Inventor\\NO_beam\\detector\\SIMION\"\n",
    "fils = [os.path.join(dire, fil) for fil in ['electrode_.PA1', 'electrode_.PA2', 'electrode_.PA3']]"
   ]
  },
  {
   "cell_type": "code",
   "execution_count": 39,
   "metadata": {},
   "outputs": [
    {
     "ename": "NameError",
     "evalue": "name 'pa2fa' is not defined",
     "output_type": "error",
     "traceback": [
      "\u001b[1;31m---------------------------------------------------------------------------\u001b[0m",
      "\u001b[1;31mNameError\u001b[0m                                 Traceback (most recent call last)",
      "Cell \u001b[1;32mIn [39], line 2\u001b[0m\n\u001b[0;32m      1\u001b[0m \u001b[39m# 3D data\u001b[39;00m\n\u001b[1;32m----> 2\u001b[0m fa \u001b[39m=\u001b[39m pa2fa(fils)\n\u001b[0;32m      3\u001b[0m \u001b[39m# nx ny nz\u001b[39;00m\n\u001b[0;32m      4\u001b[0m \u001b[39mprint\u001b[39m(\u001b[39m\"\u001b[39m\u001b[39mPA shape:\u001b[39m\u001b[39m\"\u001b[39m, fa\u001b[39m.\u001b[39mshape)\n",
      "\u001b[1;31mNameError\u001b[0m: name 'pa2fa' is not defined"
     ]
    }
   ],
   "source": [
    "# 3D data\n",
    "fa = pa2fa(fils)\n",
    "# nx ny nz\n",
    "print(\"PA shape:\", fa.shape)\n",
    "# number of electrodes\n",
    "print(\"electrodes:\", fa.num_el)"
   ]
  },
  {
   "cell_type": "code",
   "execution_count": 40,
   "metadata": {},
   "outputs": [
    {
     "ename": "NameError",
     "evalue": "name 'h5write' is not defined",
     "output_type": "error",
     "traceback": [
      "\u001b[1;31m---------------------------------------------------------------------------\u001b[0m",
      "\u001b[1;31mNameError\u001b[0m                                 Traceback (most recent call last)",
      "Cell \u001b[1;32mIn [40], line 2\u001b[0m\n\u001b[0;32m      1\u001b[0m outfil \u001b[39m=\u001b[39m os\u001b[39m.\u001b[39mpath\u001b[39m.\u001b[39mjoin(dire, \u001b[39m\"\u001b[39m\u001b[39mfast_adjust.h5\u001b[39m\u001b[39m\"\u001b[39m)\n\u001b[1;32m----> 2\u001b[0m h5write(outfil, fa)\n",
      "\u001b[1;31mNameError\u001b[0m: name 'h5write' is not defined"
     ]
    }
   ],
   "source": [
    "outfil = os.path.join(dire, \"fast_adjust.h5\")\n",
    "h5write(outfil, fa)"
   ]
  },
  {
   "cell_type": "code",
   "execution_count": 41,
   "metadata": {},
   "outputs": [
    {
     "ename": "NameError",
     "evalue": "name 'fa' is not defined",
     "output_type": "error",
     "traceback": [
      "\u001b[1;31m---------------------------------------------------------------------------\u001b[0m",
      "\u001b[1;31mNameError\u001b[0m                                 Traceback (most recent call last)",
      "Cell \u001b[1;32mIn [41], line 3\u001b[0m\n\u001b[0;32m      1\u001b[0m \u001b[39m# z grid position\u001b[39;00m\n\u001b[0;32m      2\u001b[0m zg \u001b[39m=\u001b[39m \u001b[39m59\u001b[39m\n\u001b[1;32m----> 3\u001b[0m el \u001b[39m=\u001b[39m fa\u001b[39m.\u001b[39melectrode\n\u001b[0;32m      5\u001b[0m \u001b[39m# potential\u001b[39;00m\n\u001b[0;32m      6\u001b[0m voltages \u001b[39m=\u001b[39m np\u001b[39m.\u001b[39marray([\u001b[39m0\u001b[39m, \u001b[39m-\u001b[39m\u001b[39m100\u001b[39m, \u001b[39m100\u001b[39m], dtype\u001b[39m=\u001b[39m\u001b[39m'\u001b[39m\u001b[39mfloat64\u001b[39m\u001b[39m'\u001b[39m)\n",
      "\u001b[1;31mNameError\u001b[0m: name 'fa' is not defined"
     ]
    }
   ],
   "source": [
    "# z grid position\n",
    "zg = 59\n",
    "el = fa.electrode\n",
    "\n",
    "# potential\n",
    "voltages = np.array([0, -100, 100], dtype='float64')\n",
    "phi = fa.potential(voltages)\n",
    "\n",
    "# plot\n",
    "fig, ax = plt.subplots(figsize=(9, 4))\n",
    "c0 = ax.imshow(el[:, :, zg].T, origin='lower', extent=fa.extent[:4] / 1e-3, cmap=bool_cmap, vmin=0, vmax=1, zorder=10)\n",
    "c1 = ax.imshow(phi[:, :, zg].T, origin='lower', extent=fa.extent[:4] / 1e-3, cmap='RdBu_r')\n",
    "cbar = fig.colorbar(c1, label='potential (V)')\n",
    "\n",
    "# format\n",
    "ax.set_aspect('equal')\n",
    "ax.set_xlabel('x (mm)')\n",
    "ax.set_ylabel('y (mm)')\n",
    "plt.show()"
   ]
  },
  {
   "cell_type": "code",
   "execution_count": null,
   "metadata": {},
   "outputs": [],
   "source": []
  },
  {
   "cell_type": "code",
   "execution_count": null,
   "metadata": {},
   "outputs": [],
   "source": []
  },
  {
   "cell_type": "code",
   "execution_count": null,
   "metadata": {},
   "outputs": [],
   "source": []
  }
 ],
 "metadata": {
  "kernelspec": {
   "display_name": "Python 3.11.0 64-bit",
   "language": "python",
   "name": "python3"
  },
  "language_info": {
   "codemirror_mode": {
    "name": "ipython",
    "version": 3
   },
   "file_extension": ".py",
   "mimetype": "text/x-python",
   "name": "python",
   "nbconvert_exporter": "python",
   "pygments_lexer": "ipython3",
   "version": "3.11.0"
  },
  "vscode": {
   "interpreter": {
    "hash": "c261aea317cc0286b3b3261fbba9abdec21eaa57589985bb7a274bf54d6cc0a7"
   }
  }
 },
 "nbformat": 4,
 "nbformat_minor": 2
}
